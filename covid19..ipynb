﻿{
  "metadata": {
    "name": "covid19",
    "kernelspec": {
      "language": "scala",
      "name": "spark2-scala"
    },
    "language_info": {
      "codemirror_mode": "text/x-scala",
      "file_extension": ".scala",
      "mimetype": "text/x-scala",
      "name": "scala",
      "pygments_lexer": "scala"
    }
  },
  "nbformat": 4,
  "nbformat_minor": 2,
  "cells": [
    {
      "cell_type": "code",
      "execution_count": 0,
      "metadata": {
        "autoscroll": "auto"
      },
      "outputs": [],
      "source": "%python\nimport pandas as pd\n\ncovid19_1_2 \u003d pd.read_excel(\"NaverBlog19_1_2.xlsx\", sheet_name\u003d\"naverBlog\", names \u003d[\u0027content\u0027,\u0027date\u0027] )\ncovid19_3_4 \u003d pd.read_excel(\"NaverBlog19_03_04.xlsx\", sheet_name\u003d\"naverBlog\", names \u003d[\u0027content\u0027,\u0027date\u0027] )\ncovid19_5_6 \u003d pd.read_excel(\"NaverBlog19_05_06.xlsx\", sheet_name\u003d\"naverBlog\", names \u003d[\u0027content\u0027,\u0027date\u0027] )\ncovid19_7_8 \u003d pd.read_excel(\"NaverBlog19_7_8.xlsx\", sheet_name\u003d\"naverBlog\", names \u003d[\u0027content\u0027,\u0027date\u0027] )\ncovid19_9_10 \u003d pd.read_excel(\"NaverBlog19_9_10.xlsx\", sheet_name\u003d\"naverBlog\", names \u003d[\u0027content\u0027,\u0027date\u0027] )\ncovid19_11_12 \u003d pd.read_excel(\"NaverBlog19_11_12.xlsx\", sheet_name\u003d\"naverBlog\", names \u003d[\u0027content\u0027,\u0027date\u0027] )\ncovid20_1 \u003d pd.read_excel(\"NaverBlog20_01.xlsx\", sheet_name\u003d\"naverBlog\", names \u003d[\u0027content\u0027,\u0027date\u0027] )\ncovid20_1_1 \u003d pd.read_excel(\"NaverBlog20_01_2.xlsx\", sheet_name\u003d\"naverBlog\", names \u003d[\u0027content\u0027,\u0027date\u0027] )\ncovid20_1_2 \u003d pd.read_excel(\"NaverBlog20_01_3.xlsx\", sheet_name\u003d\"naverBlog\", names \u003d[\u0027content\u0027,\u0027date\u0027] )\ncovid20_1_3 \u003d pd.read_excel(\"NaverBlog20_01_4.xlsx\", sheet_name\u003d\"naverBlog\", names \u003d[\u0027content\u0027,\u0027date\u0027] )\ncovid20_2 \u003d pd.read_excel(\"NaverBlog20_02.xlsx\", sheet_name\u003d\"naverBlog\", names \u003d[\u0027content\u0027,\u0027date\u0027] )\ncovid20_2_1 \u003d pd.read_excel(\"NaverBlog20_02_01.xlsx\", sheet_name\u003d\"naverBlog\", names \u003d[\u0027content\u0027,\u0027date\u0027] )\ncovid20_2_2 \u003d pd.read_excel(\"NaverBlog20_02_02.xlsx\", sheet_name\u003d\"naverBlog\", names \u003d[\u0027content\u0027,\u0027date\u0027] )\ncovid20_3 \u003d pd.read_excel(\"NaverBlog20_03.xlsx\", sheet_name\u003d\"naverBlog\", names \u003d[\u0027content\u0027,\u0027date\u0027] )\ncovid20_4 \u003d pd.read_excel(\"NaverBlog20_04.xlsx\", sheet_name\u003d\"naverBlog\", names \u003d[\u0027content\u0027,\u0027date\u0027] )\ncovid20_4_1 \u003d pd.read_excel(\"NaverBlog20_04_01.xlsx\", sheet_name\u003d\"naverBlog\", names \u003d[\u0027content\u0027,\u0027date\u0027] )\ncovid20_5 \u003d pd.read_excel(\"NaverBlog20_05.xlsx\", sheet_name\u003d\"naverBlog\", names \u003d[\u0027content\u0027,\u0027date\u0027] )\ncovid20_6 \u003d pd.read_excel(\"NaverBlog20_06.xlsx\", sheet_name\u003d\"naverBlog\", names \u003d[\u0027content\u0027,\u0027date\u0027] )\ncovid20_7 \u003d pd.read_excel(\"NaverBlog20_07.xlsx\", sheet_name\u003d\"naverBlog\", names \u003d[\u0027content\u0027,\u0027date\u0027] )\ncovid20_8 \u003d pd.read_excel(\"NaverBlog20_08.xlsx\", sheet_name\u003d\"naverBlog\", names \u003d[\u0027content\u0027,\u0027date\u0027] )\ncovid20_9 \u003d pd.read_excel(\"NaverBlog20_09.xlsx\", sheet_name\u003d\"naverBlog\", names \u003d[\u0027content\u0027,\u0027date\u0027] )\ncovid20_10 \u003d pd.read_excel(\"NaverBlog20_10.xlsx\", sheet_name\u003d\"naverBlog\", names \u003d[\u0027content\u0027,\u0027date\u0027] )\ncovid20_11 \u003d pd.read_excel(\"NaverBlog20_11.xlsx\", sheet_name\u003d\"naverBlog\", names \u003d[\u0027content\u0027,\u0027date\u0027] )\ncovid20_12 \u003d pd.read_excel(\"NaverBlog20_12.xlsx\", sheet_name\u003d\"naverBlog\", names \u003d[\u0027content\u0027,\u0027date\u0027] )\n\nprint(covid[\u0027content\u0027])"
    },
    {
      "cell_type": "code",
      "execution_count": 1,
      "metadata": {
        "autoscroll": "auto"
      },
      "outputs": [],
      "source": "%python\n\n# 월별 데이터 묶어주기\nprint(covid20_1.shape)\n\ncovid20_1 \u003d pd.concat([covid20_1,covid20_1_1])\ncovid20_1 \u003d pd.concat([covid20_1,covid20_1_2])\ncovid20_1 \u003d pd.concat([covid20_1,covid20_1_3])\n\ncovid20_2 \u003d pd.concat([covid20_2,covid20_2_1])\ncovid20_2 \u003d pd.concat([covid20_2,covid20_2_2])\n\ncovid20_4 \u003d pd.concat([covid20_4,covid20_4_1])"
    },
    {
      "cell_type": "code",
      "execution_count": 2,
      "metadata": {
        "autoscroll": "auto"
      },
      "outputs": [],
      "source": "%python\n# 2019년 데이터를 하나로 합친 dataframe도 생성해주었다\ncovid19 \u003d pd.concat([covid19_1_2,covid19_3_4,covid19_5_6,covid19_7_8,covid19_9_10,covid19_11_12])\nprint(covid19.shape)"
    },
    {
      "cell_type": "code",
      "execution_count": 3,
      "metadata": {
        "autoscroll": "auto"
      },
      "outputs": [],
      "source": "%python\n# 결측치 들어있는 행 전체 삭제\n\ncovid19\u003dcovid19.dropna(axis\u003d0)\ncovid20_1\u003dcovid20_1.dropna(axis\u003d0)\ncovid20_2\u003dcovid20_2.dropna(axis\u003d0)\ncovid20_3\u003dcovid20_3.dropna(axis\u003d0)\ncovid20_4\u003dcovid20_4.dropna(axis\u003d0)\ncovid20_5\u003dcovid20_5.dropna(axis\u003d0)\ncovid20_6\u003dcovid20_6.dropna(axis\u003d0)\ncovid20_7\u003dcovid20_7.dropna(axis\u003d0)\ncovid20_8\u003dcovid20_8.dropna(axis\u003d0)\ncovid20_9\u003dcovid20_9.dropna(axis\u003d0)\ncovid20_10\u003dcovid20_10.dropna(axis\u003d0)\ncovid20_11\u003dcovid20_11.dropna(axis\u003d0)\ncovid20_12\u003dcovid20_12.dropna(axis\u003d0)\n\nprint(covid19)"
    },
    {
      "cell_type": "code",
      "execution_count": 4,
      "metadata": {
        "autoscroll": "auto"
      },
      "outputs": [],
      "source": "%python\nana19 \u003d analysis(covid19)\nnoun_list(ana19)"
    },
    {
      "cell_type": "code",
      "execution_count": 5,
      "metadata": {
        "autoscroll": "auto"
      },
      "outputs": [],
      "source": "%python\nimport pandas as pd\nfrom konlpy.tag import Okt\nfrom nltk import Text\n\n# 형태소 분석을 위한 모듈 생성\ndef noun_list(okt):\n    df \u003d pd.DataFrame(columns\u003d[\u0027noun\u0027, \u0027frequency\u0027])\n    for tags, counts in okt.vocab().most_common(70):\n        if tags in [\"것\",\"수”,\"곳\",\"이\",\"때\",\"더\",\"저\",\"등\",\"그\",\"정말\",\"제\",\"날\",\"분\",\"바로\",\"전\",\"우리\",\"내\",\"나\",\"거\",\"안\",\"중\",\"번\",\"또\",\"위\",\"점\",\"말\",\"만\"]:\n            continue\n        df \u003d df.append(pd.DataFrame([[tags, counts]], columns\u003d[\u0027noun\u0027, \u0027frequency\u0027]), ignore_index\u003dTrue)\n    return z.show(df)\n\ndef analysis(name):\n    list \u003d \"\"\n    for i in name.index: \n        list +\u003d str(name.loc[i,\"content\"])\n    okt \u003d Okt()\n    myList \u003d okt.pos(list, norm\u003dTrue, stem\u003dTrue) # 모든 형태소 추출\n    myList_filter \u003d [x for x, y in myList if y in [\u0027Noun\u0027]] # 추출된 값 중 명사만 추출\n    return Text(myList_filter, name\u003d\"Okt\")"
    },
    {
      "cell_type": "code",
      "execution_count": 6,
      "metadata": {
        "autoscroll": "auto"
      },
      "outputs": [],
      "source": "%python\r\nfrom konlpy.tag import Okt\r\nfrom nltk import Text\r\n\r\ncovid20_1_list \u003d \"\"\r\nfor i in covid20_1.index: \r\n    covid19_list +\u003d str(covid20_1.loc[i,\"content\"])\r\n\r\nokt \u003d Okt()\r\nmyList \u003d okt.pos(covid19_list, norm\u003dTrue, stem\u003dTrue) # 모든 형태소 추출\r\nmyList_filter \u003d [x for x, y in myList if y in [\u0027Noun\u0027]] # 추출된 값 중 명사만 추출\r\n \r\nnoun_list(Text(myList_filter, name\u003d\"Okt\"))"
    },
    {
      "cell_type": "code",
      "execution_count": 7,
      "metadata": {
        "autoscroll": "auto"
      },
      "outputs": [],
      "source": "%python\nana201 \u003d analysis(covid20_1)\nnoun_list(ana201)"
    },
    {
      "cell_type": "code",
      "execution_count": 8,
      "metadata": {
        "autoscroll": "auto"
      },
      "outputs": [],
      "source": "%python\nana202 \u003d analysis(covid20_2)\nnoun_list(ana202)"
    },
    {
      "cell_type": "code",
      "execution_count": 9,
      "metadata": {
        "autoscroll": "auto"
      },
      "outputs": [],
      "source": "%python\nana203 \u003d analysis(covid20_3)\nnoun_list(ana203)"
    },
    {
      "cell_type": "code",
      "execution_count": 10,
      "metadata": {
        "autoscroll": "auto"
      },
      "outputs": [],
      "source": "%python\nana204 \u003d analysis(covid20_4)\nnoun_list(ana204)"
    },
    {
      "cell_type": "code",
      "execution_count": 11,
      "metadata": {
        "autoscroll": "auto"
      },
      "outputs": [],
      "source": "%python\nana205 \u003d analysis(covid20_5)\nnoun_list(ana205)"
    },
    {
      "cell_type": "code",
      "execution_count": 12,
      "metadata": {
        "autoscroll": "auto"
      },
      "outputs": [],
      "source": "%python\nana206 \u003d analysis(covid20_6)\nnoun_list(ana206)"
    },
    {
      "cell_type": "code",
      "execution_count": 13,
      "metadata": {
        "autoscroll": "auto"
      },
      "outputs": [],
      "source": "%python\nnoun_list(analysis(covid20_7))"
    },
    {
      "cell_type": "raw",
      "metadata": {
        "format": "text/plain"
      },
      "source": "%python\n"
    },
    {
      "cell_type": "code",
      "execution_count": 15,
      "metadata": {
        "autoscroll": "auto"
      },
      "outputs": [],
      "source": "%python\nana208 \u003d analysis(covid20_8)\nnoun_list(ana208)"
    },
    {
      "cell_type": "code",
      "execution_count": 16,
      "metadata": {
        "autoscroll": "auto"
      },
      "outputs": [],
      "source": "%python\nana209 \u003d analysis(covid20_9)\nnoun_list(ana209)"
    },
    {
      "cell_type": "code",
      "execution_count": 17,
      "metadata": {
        "autoscroll": "auto"
      },
      "outputs": [],
      "source": "%python\nana2010 \u003d analysis(covid20_10)\nnoun_list(ana2010)"
    },
    {
      "cell_type": "code",
      "execution_count": 18,
      "metadata": {
        "autoscroll": "auto"
      },
      "outputs": [],
      "source": "%python\nana2011 \u003d analysis(covid20_11)\nnoun_list(ana2011)"
    },
    {
      "cell_type": "code",
      "execution_count": 19,
      "metadata": {
        "autoscroll": "auto"
      },
      "outputs": [],
      "source": "%python\nana2012 \u003d analysis(covid20_12)\nnoun_list(ana2012)"
    },
    {
      "cell_type": "code",
      "execution_count": 20,
      "metadata": {
        "autoscroll": "auto"
      },
      "outputs": [],
      "source": "%spark\n\nval publicDF19 \u003d spark.read.option(\"inferSchema\", \"true\").option(\"encoding\", \"cp949\").option(\"header\",\"true\").csv(\"서울시_우리마을가게_상권분석서비스(상권-점포)_2019년.csv\")\nval publicDF20 \u003d spark.read.option(\"inferSchema\", \"true\").option(\"encoding\", \"cp949\").option(\"header\",\"true\").csv(\"서울시_우리마을가게_상권분석서비스(상권-점포)_2020년.csv\")"
    },
    {
      "cell_type": "code",
      "execution_count": 21,
      "metadata": {
        "autoscroll": "auto"
      },
      "outputs": [],
      "source": "%spark\nval new19 \u003d publicDF19.drop(\"기준_년_코드\",\"기준_분기_코드\",\"상권_구분_코드\",\"상권_구분_코드_명\",\"상권_코드\",\"상권_코드_명\",\"서비스_업종_코드\",\"유사_업종_점포_수\",\"프랜차이즈_점포_수\")\nval new20 \u003d publicDF20.drop(\"기준_년_코드\",\"상권_구분_코드\",\"상권_구분_코드_명\",\"상권_코드\",\"상권_코드_명\",\"서비스_업종_코드\",\"유사_업종_점포_수\",\"프랜차이즈_점포_수\")"
    },
    {
      "cell_type": "code",
      "execution_count": 22,
      "metadata": {
        "autoscroll": "auto"
      },
      "outputs": [],
      "source": "%spark\n"
    },
    {
      "cell_type": "code",
      "execution_count": 23,
      "metadata": {
        "autoscroll": "auto"
      },
      "outputs": [],
      "source": "%spark\nnew19.show()\nnew20.show()"
    },
    {
      "cell_type": "code",
      "execution_count": 24,
      "metadata": {
        "autoscroll": "auto"
      },
      "outputs": [],
      "source": "%spark\nval data19 \u003d new19.select(col(\"서비스_업종_코드_명\").alias(\"service\"), col(\"점포_수\").alias(\"store_num\"),col(\"개업_점포_수\").alias(\"open_num\"),col(\"개업_율\").alias(\"open_rate\"),col(\"폐업_률\").alias(\"closure_rate\"),col(\"폐업_점포_수\").alias(\"closure_num\"))\nval data20 \u003d new20.select(col(\"기준_분기_코드\").alias(\"quarter\"),col(\"서비스_업종_코드_명\").alias(\"service\"),col(\"개업_율\").alias(\"open_rate\"),col(\"폐업_률\").alias(\"closure_rate\"), col(\"점포_수\").alias(\"store_num\"),col(\"개업_점포_수\").alias(\"open_num\"),col(\"폐업_점포_수\").alias(\"closure_num\"))\ndata20.show()"
    },
    {
      "cell_type": "code",
      "execution_count": 25,
      "metadata": {
        "autoscroll": "auto"
      },
      "outputs": [],
      "source": "%spark\n"
    },
    {
      "cell_type": "code",
      "execution_count": 26,
      "metadata": {
        "autoscroll": "auto"
      },
      "outputs": [],
      "source": "%spark\n\ndata19.createOrReplaceTempView(\"data19\")\nspark.sql(\"SELECT service,sum(store_num) num FROM data19 GROUP BY service ORDER BY num desc \").show()"
    },
    {
      "cell_type": "code",
      "execution_count": 27,
      "metadata": {
        "autoscroll": "auto"
      },
      "outputs": [],
      "source": "%spark\n"
    },
    {
      "cell_type": "code",
      "execution_count": 28,
      "metadata": {
        "autoscroll": "auto"
      },
      "outputs": [],
      "source": "%spark\n\ndata20.createOrReplaceTempView(\"data20\")\nspark.sql(\"SELECT service,sum(store_num) num FROM data20 WHERE quarter\u003d1 GROUP BY service ORDER BY num desc \").show()"
    },
    {
      "cell_type": "code",
      "execution_count": 29,
      "metadata": {
        "autoscroll": "auto"
      },
      "outputs": [],
      "source": "%spark\n\ndata20.createOrReplaceTempView(\"data20\")\nspark.sql(\"SELECT service,sum(store_num) num FROM data20 WHERE quarter\u003d2 GROUP BY service ORDER BY num desc \").show()"
    },
    {
      "cell_type": "code",
      "execution_count": 30,
      "metadata": {
        "autoscroll": "auto"
      },
      "outputs": [],
      "source": "%spark\n\ndata20.createOrReplaceTempView(\"data20\")\nspark.sql(\"SELECT service,sum(store_num) num FROM data20 WHERE quarter\u003d3 GROUP BY service ORDER BY num desc \").show()"
    },
    {
      "cell_type": "code",
      "execution_count": 31,
      "metadata": {
        "autoscroll": "auto"
      },
      "outputs": [],
      "source": "%spark\n\ndata20.createOrReplaceTempView(\"data20\")\nspark.sql(\"SELECT service,sum(store_num) num FROM data20 WHERE quarter\u003d4 GROUP BY service ORDER BY num desc \").show()"
    },
    {
      "cell_type": "code",
      "execution_count": 32,
      "metadata": {
        "autoscroll": "auto"
      },
      "outputs": [],
      "source": "%spark\n\ndata20.createOrReplaceTempView(\"data20\")\nspark.sql(\"SELECT service,sum(open_num) OPEN FROM data20 WHERE quarter\u003d1 GROUP BY service ORDER BY OPEN desc \").show()"
    },
    {
      "cell_type": "code",
      "execution_count": 33,
      "metadata": {
        "autoscroll": "auto"
      },
      "outputs": [],
      "source": "%spark\n\ndata20.createOrReplaceTempView(\"data20\")\nspark.sql(\"SELECT service,sum(open_num) OPEN FROM data20 WHERE quarter\u003d2 GROUP BY service ORDER BY OPEN desc \").show()"
    },
    {
      "cell_type": "code",
      "execution_count": 34,
      "metadata": {
        "autoscroll": "auto"
      },
      "outputs": [],
      "source": "%spark\n\ndata20.createOrReplaceTempView(\"data20\")\nspark.sql(\"SELECT service,sum(open_num) OPEN FROM data20 WHERE quarter\u003d3 GROUP BY service ORDER BY OPEN desc \").show()"
    },
    {
      "cell_type": "code",
      "execution_count": 35,
      "metadata": {
        "autoscroll": "auto"
      },
      "outputs": [],
      "source": "%spark\n\ndata20.createOrReplaceTempView(\"data20\")\nspark.sql(\"SELECT service,sum(open_num) OPEN FROM data20 WHERE quarter\u003d4 GROUP BY service ORDER BY OPEN desc \").show()"
    },
    {
      "cell_type": "code",
      "execution_count": 36,
      "metadata": {
        "autoscroll": "auto"
      },
      "outputs": [],
      "source": "%spark\n\ndata19.createOrReplaceTempView(\"data19\")\nspark.sql(\"SELECT service,sum(closure_num) OPEN FROM data19 GROUP BY service ORDER BY OPEN desc \").show()"
    },
    {
      "cell_type": "code",
      "execution_count": 37,
      "metadata": {
        "autoscroll": "auto"
      },
      "outputs": [],
      "source": "%spark\n\ndata20.createOrReplaceTempView(\"data20\")\nspark.sql(\"SELECT service,sum(closure_num) OPEN FROM data20 WHERE quarter\u003d1 GROUP BY service ORDER BY OPEN desc \").show()"
    },
    {
      "cell_type": "code",
      "execution_count": 38,
      "metadata": {
        "autoscroll": "auto"
      },
      "outputs": [],
      "source": "%spark\n\ndata20.createOrReplaceTempView(\"data20\")\nspark.sql(\"SELECT service,sum(closure_num) OPEN FROM data20 WHERE quarter\u003d2 GROUP BY service ORDER BY OPEN desc \").show()"
    },
    {
      "cell_type": "code",
      "execution_count": 39,
      "metadata": {
        "autoscroll": "auto"
      },
      "outputs": [],
      "source": "%spark\n\ndata20.createOrReplaceTempView(\"data20\")\nspark.sql(\"SELECT service,sum(closure_num) OPEN FROM data20 WHERE quarter\u003d3 GROUP BY service ORDER BY OPEN desc \").show()"
    },
    {
      "cell_type": "code",
      "execution_count": 40,
      "metadata": {
        "autoscroll": "auto"
      },
      "outputs": [],
      "source": "%spark\n\ndata20.createOrReplaceTempView(\"data20\")\nspark.sql(\"SELECT service,sum(closure_num) OPEN FROM data20 WHERE quarter\u003d4 GROUP BY service ORDER BY OPEN desc \").show()"
    },
    {
      "cell_type": "code",
      "execution_count": 41,
      "metadata": {
        "autoscroll": "auto"
      },
      "outputs": [],
      "source": "%spark\n\ndata19.createOrReplaceTempView(\"data19\")\nspark.sql(\"SELECT service,avg(closure_rate) CLOSE FROM data19 GROUP BY service ORDER BY CLOSE desc \").show()"
    },
    {
      "cell_type": "code",
      "execution_count": 42,
      "metadata": {
        "autoscroll": "auto"
      },
      "outputs": [],
      "source": "%spark\n\ndata20.createOrReplaceTempView(\"data20\")\nz.show(spark.sql(\"SELECT service,avg(closure_num) OPEN FROM data20 WHERE quarter\u003d3 GROUP BY service ORDER BY OPEN desc \"))"
    },
    {
      "cell_type": "code",
      "execution_count": 43,
      "metadata": {
        "autoscroll": "auto"
      },
      "outputs": [],
      "source": "%spark\n"
    }
  ]
}